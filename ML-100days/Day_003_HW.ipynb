{
 "cells": [
  {
   "cell_type": "code",
   "execution_count": 1,
   "metadata": {},
   "outputs": [
    {
     "ename": "SyntaxError",
     "evalue": "invalid character in identifier (<ipython-input-1-6687861f191f>, line 1)",
     "output_type": "error",
     "traceback": [
      "\u001b[1;36m  File \u001b[1;32m\"<ipython-input-1-6687861f191f>\"\u001b[1;36m, line \u001b[1;32m1\u001b[0m\n\u001b[1;33m    專案的目標？ (要解決什麼問題）\u001b[0m\n\u001b[1;37m         ^\u001b[0m\n\u001b[1;31mSyntaxError\u001b[0m\u001b[1;31m:\u001b[0m invalid character in identifier\n"
     ]
    }
   ],
   "source": [
    "專案的目標？ (要解決什麼問題）\n",
    "    專案要解決的問題是，在疫情期間人臉辨識系統無法辨識到戴口罩的民眾\n",
    "使用的技術是？ (只需知道名稱即可，例如：使用 CNN 卷積神經網路做影像分類)\n",
    "       Face ID會先用泛光感應組件照亮用戶的臉部取得2D紅外相片，然後再用紅外網路攝影機辨識\n",
    "        ，接下來再用點陣投影器向物體的表面投出三萬多個特定編碼的紅外點，再通過反射回到紅外網路攝影機接收器\n",
    "        ，利用紅外相片和反射回去的紅外點間的偏移，就可以物體獲得臉部表面的景深資訊，從而構建一個3D精確模型\n",
    "        ，然後就會將紅外圖像和3D精準模型傳送到處理器中，並轉化成一道數學表達式\n",
    "        ，比對之前已註冊的臉部資料後，就會得出結論。 其中的「注視解鎖」的功能是通過紅外網路攝影機捕捉眼球的畫面並辨識瞳孔特徵來實現的\n",
    "資料來源？\n",
    "    https://www.jiqizhixin.com/articles/2020-05-06-2 (機器之心)\n",
    "    https://zh.wikipedia.org/wiki/%E9%9D%A2%E5%AE%B9_ID(維基百科)"
   ]
  },
  {
   "cell_type": "code",
   "execution_count": null,
   "metadata": {},
   "outputs": [],
   "source": []
  }
 ],
 "metadata": {
  "kernelspec": {
   "display_name": "Python 3",
   "language": "python",
   "name": "python3"
  },
  "language_info": {
   "codemirror_mode": {
    "name": "ipython",
    "version": 3
   },
   "file_extension": ".py",
   "mimetype": "text/x-python",
   "name": "python",
   "nbconvert_exporter": "python",
   "pygments_lexer": "ipython3",
   "version": "3.7.4"
  }
 },
 "nbformat": 4,
 "nbformat_minor": 2
}
