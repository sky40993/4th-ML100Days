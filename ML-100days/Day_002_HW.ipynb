{
 "cells": [
  {
   "cell_type": "code",
   "execution_count": null,
   "metadata": {},
   "outputs": [],
   "source": [
    "#Homework\n",
    "#檢驗類領域-不管是橋樑檢測、身體健康檢測這些大部分都是與圖像數值息息相關\n",
    "#例如每張圖片都可以拆成數個像素如果機器學習可以找到其像素組成與異常狀態的\n",
    "#關聯那將會大大幫助人類，乳癌檢測目前已經成功有案例且被被承認真的有幫助！"
   ]
  }
 ],
 "metadata": {
  "kernelspec": {
   "display_name": "Python 3",
   "language": "python",
   "name": "python3"
  },
  "language_info": {
   "codemirror_mode": {
    "name": "ipython",
    "version": 3
   },
   "file_extension": ".py",
   "mimetype": "text/x-python",
   "name": "python",
   "nbconvert_exporter": "python",
   "pygments_lexer": "ipython3",
   "version": "3.7.4"
  }
 },
 "nbformat": 4,
 "nbformat_minor": 2
}
